{
 "cells": [
  {
   "cell_type": "code",
   "execution_count": 1,
   "id": "4f5d7f8e-8d27-48cd-966b-ce4f6d6a1c04",
   "metadata": {},
   "outputs": [],
   "source": [
    "import os\n",
    "import pickle\n",
    "import pandas as pd\n",
    "import numpy as np\n",
    "\n",
    "from src.io import read_pkl\n",
    "from src.default_paths import path_root\n",
    "from src.mappings import model_names, task_names"
   ]
  },
  {
   "cell_type": "code",
   "execution_count": 2,
   "id": "d5e45bab-eed8-4477-a109-39076e5f43f5",
   "metadata": {},
   "outputs": [],
   "source": [
    "PATH_TO_ADAPTER_MODELS_RESULTS = os.path.join(path_root, \"data/cancer\", \"evaluate\", \"adapter_models\")"
   ]
  },
  {
   "cell_type": "code",
   "execution_count": 3,
   "id": "540d930e-a96b-4325-a2a2-95e1cbbe1ca0",
   "metadata": {},
   "outputs": [],
   "source": [
    "def list_dir(path: str):\n",
    "    \"\"\"get list of file/directory names excluding nb checkpoints\"\"\"\n",
    "    \n",
    "    return [\n",
    "        x for x in os.listdir(path)\n",
    "        if x != \".ipynb_checkpoints\"\n",
    "    ]\n",
    "\n",
    "def bsp_res_to_str(results: list):\n",
    "    \"\"\"return formatted string of bootstrap results\"\"\"\n",
    "    \n",
    "    lower, med, upper = (\n",
    "        [\n",
    "            str(x) for x in \n",
    "            np.nanpercentile(results,[2.5, 50, 97.5])\n",
    "            .round(3)\n",
    "        ]\n",
    "    )\n",
    "    \n",
    "    return f\"{med} [{lower}, {upper}]\""
   ]
  },
  {
   "cell_type": "code",
   "execution_count": 4,
   "id": "a59c039a-fab1-4f16-873c-5dbbc96be1fa",
   "metadata": {},
   "outputs": [],
   "source": [
    "use_bootstrap = True\n",
    "\n",
    "auroc_results = {}\n",
    "auprc_results = {}\n",
    "\n",
    "models = list_dir(PATH_TO_ADAPTER_MODELS_RESULTS)\n",
    "\n",
    "for model in models:\n",
    "    tasks = list_dir(os.path.join(PATH_TO_ADAPTER_MODELS_RESULTS, model))\n",
    "    auroc_results[model] = {}\n",
    "    auprc_results[model] = {}\n",
    "    \n",
    "    for task in tasks:\n",
    "        try:\n",
    "            result = read_pkl(os.path.join(PATH_TO_ADAPTER_MODELS_RESULTS, model, task, \"results.pkl\"))\n",
    "            auroc_results[model][task] = bsp_res_to_str(result[\"auroc_bootstrap\"]) if use_bootstrap else result[\"auroc\"]\n",
    "            auprc_results[model][task] = bsp_res_to_str(result[\"auprc_bootstrap\"]) if use_bootstrap else result[\"auprc\"]\n",
    "        except:\n",
    "            auroc_results[model][task] = np.nan\n",
    "            auprc_results[model][task] = np.nan"
   ]
  },
  {
   "cell_type": "code",
   "execution_count": 9,
   "id": "e91cb00f-3b27-41c5-b598-7c2536f13cbd",
   "metadata": {},
   "outputs": [
    {
     "ename": "FileNotFoundError",
     "evalue": "[Errno 2] No such file or directory: '/hpf/projects/lsung/phi/projects/lguo/femr-on-sk/data/cancer/evaluate/adapter_models/count_sk_gbm/mortality_90/results.pkl'",
     "output_type": "error",
     "traceback": [
      "\u001b[0;31m---------------------------------------------------------------------------\u001b[0m",
      "\u001b[0;31mFileNotFoundError\u001b[0m                         Traceback (most recent call last)",
      "Cell \u001b[0;32mIn[9], line 1\u001b[0m\n\u001b[0;32m----> 1\u001b[0m result \u001b[38;5;241m=\u001b[39m \u001b[43mread_pkl\u001b[49m\u001b[43m(\u001b[49m\u001b[43mos\u001b[49m\u001b[38;5;241;43m.\u001b[39;49m\u001b[43mpath\u001b[49m\u001b[38;5;241;43m.\u001b[39;49m\u001b[43mjoin\u001b[49m\u001b[43m(\u001b[49m\u001b[43mPATH_TO_ADAPTER_MODELS_RESULTS\u001b[49m\u001b[43m,\u001b[49m\u001b[43m \u001b[49m\u001b[43mmodel\u001b[49m\u001b[43m,\u001b[49m\u001b[43m \u001b[49m\u001b[43mtask\u001b[49m\u001b[43m,\u001b[49m\u001b[43m \u001b[49m\u001b[38;5;124;43m\"\u001b[39;49m\u001b[38;5;124;43mresults.pkl\u001b[39;49m\u001b[38;5;124;43m\"\u001b[39;49m\u001b[43m)\u001b[49m\u001b[43m)\u001b[49m\n",
      "File \u001b[0;32m/hpf/projects/lsung/phi/projects/lguo/femr-on-sk/src/io.py:29\u001b[0m, in \u001b[0;36mread_pkl\u001b[0;34m(path_to_file)\u001b[0m\n\u001b[1;32m     27\u001b[0m \u001b[38;5;28;01mdef\u001b[39;00m \u001b[38;5;21mread_pkl\u001b[39m(path_to_file: \u001b[38;5;28mstr\u001b[39m):\n\u001b[1;32m     28\u001b[0m \u001b[38;5;250m    \u001b[39m\u001b[38;5;124;03m\"\"\"Read from pickle file\"\"\"\u001b[39;00m\n\u001b[0;32m---> 29\u001b[0m     \u001b[38;5;28;01mwith\u001b[39;00m \u001b[38;5;28;43mopen\u001b[39;49m\u001b[43m(\u001b[49m\u001b[43mpath_to_file\u001b[49m\u001b[43m,\u001b[49m\u001b[43m \u001b[49m\u001b[38;5;124;43m\"\u001b[39;49m\u001b[38;5;124;43mrb\u001b[39;49m\u001b[38;5;124;43m\"\u001b[39;49m\u001b[43m)\u001b[49m \u001b[38;5;28;01mas\u001b[39;00m f:\n\u001b[1;32m     30\u001b[0m         \u001b[38;5;28;01mreturn\u001b[39;00m pickle\u001b[38;5;241m.\u001b[39mload(f)\n",
      "\u001b[0;31mFileNotFoundError\u001b[0m: [Errno 2] No such file or directory: '/hpf/projects/lsung/phi/projects/lguo/femr-on-sk/data/cancer/evaluate/adapter_models/count_sk_gbm/mortality_90/results.pkl'"
     ]
    }
   ],
   "source": [
    "result = read_pkl(os.path.join(PATH_TO_ADAPTER_MODELS_RESULTS, model, task, \"results.pkl\"))"
   ]
  },
  {
   "cell_type": "code",
   "execution_count": 5,
   "id": "872aa0fe-5bb5-465a-94af-d843795f9fa7",
   "metadata": {},
   "outputs": [],
   "source": [
    "column_orders = [\n",
    "    \"SK [Count]\", \"SK [Count] (GBM)\", \"SK\",\n",
    "    \"Stanford\",\n",
    "    \"Stanford_Cont-Pre\",\n",
    "]\n",
    "\n",
    "task_orders = [\n",
    "    \"mortality_90\", \"mortality_180\", \"mortality_365\",\n",
    "]"
   ]
  },
  {
   "cell_type": "code",
   "execution_count": 6,
   "id": "c3ed1ed7-dd9f-4c82-a171-24bf49218074",
   "metadata": {},
   "outputs": [
    {
     "data": {
      "text/html": [
       "<div>\n",
       "<style scoped>\n",
       "    .dataframe tbody tr th:only-of-type {\n",
       "        vertical-align: middle;\n",
       "    }\n",
       "\n",
       "    .dataframe tbody tr th {\n",
       "        vertical-align: top;\n",
       "    }\n",
       "\n",
       "    .dataframe thead th {\n",
       "        text-align: right;\n",
       "    }\n",
       "</style>\n",
       "<table border=\"1\" class=\"dataframe\">\n",
       "  <thead>\n",
       "    <tr style=\"text-align: right;\">\n",
       "      <th></th>\n",
       "      <th>SK [Count]</th>\n",
       "      <th>SK [Count] (GBM)</th>\n",
       "      <th>SK</th>\n",
       "      <th>Stanford</th>\n",
       "      <th>Stanford_Cont-Pre</th>\n",
       "    </tr>\n",
       "    <tr>\n",
       "      <th>Task</th>\n",
       "      <th></th>\n",
       "      <th></th>\n",
       "      <th></th>\n",
       "      <th></th>\n",
       "      <th></th>\n",
       "    </tr>\n",
       "  </thead>\n",
       "  <tbody>\n",
       "    <tr>\n",
       "      <th>mortality_90</th>\n",
       "      <td>NaN</td>\n",
       "      <td>NaN</td>\n",
       "      <td>NaN</td>\n",
       "      <td>NaN</td>\n",
       "      <td>NaN</td>\n",
       "    </tr>\n",
       "    <tr>\n",
       "      <th>mortality_180</th>\n",
       "      <td>NaN</td>\n",
       "      <td>NaN</td>\n",
       "      <td>NaN</td>\n",
       "      <td>NaN</td>\n",
       "      <td>NaN</td>\n",
       "    </tr>\n",
       "    <tr>\n",
       "      <th>mortality_365</th>\n",
       "      <td>NaN</td>\n",
       "      <td>NaN</td>\n",
       "      <td>NaN</td>\n",
       "      <td>NaN</td>\n",
       "      <td>NaN</td>\n",
       "    </tr>\n",
       "  </tbody>\n",
       "</table>\n",
       "</div>"
      ],
      "text/plain": [
       "               SK [Count]  SK [Count] (GBM)  SK  Stanford  Stanford_Cont-Pre\n",
       "Task                                                                        \n",
       "mortality_90          NaN               NaN NaN       NaN                NaN\n",
       "mortality_180         NaN               NaN NaN       NaN                NaN\n",
       "mortality_365         NaN               NaN NaN       NaN                NaN"
      ]
     },
     "execution_count": 6,
     "metadata": {},
     "output_type": "execute_result"
    }
   ],
   "source": [
    "df_auroc = (\n",
    "    pd.DataFrame.from_dict(auroc_results)\n",
    "    .round(3)\n",
    "    .rename(columns=model_names)\n",
    "    .reset_index(names=\"Task\")\n",
    "    .replace(task_names)\n",
    "    .set_index(\"Task\")\n",
    "    .reindex(task_orders)\n",
    "    [column_orders]\n",
    ")\n",
    "\n",
    "df_auroc"
   ]
  },
  {
   "cell_type": "code",
   "execution_count": 7,
   "id": "f4135ca8-82c7-4e22-86b3-36c5d89c208f",
   "metadata": {},
   "outputs": [
    {
     "data": {
      "text/html": [
       "<div>\n",
       "<style scoped>\n",
       "    .dataframe tbody tr th:only-of-type {\n",
       "        vertical-align: middle;\n",
       "    }\n",
       "\n",
       "    .dataframe tbody tr th {\n",
       "        vertical-align: top;\n",
       "    }\n",
       "\n",
       "    .dataframe thead th {\n",
       "        text-align: right;\n",
       "    }\n",
       "</style>\n",
       "<table border=\"1\" class=\"dataframe\">\n",
       "  <thead>\n",
       "    <tr style=\"text-align: right;\">\n",
       "      <th></th>\n",
       "      <th>SK [Count]</th>\n",
       "      <th>SK [Count] (GBM)</th>\n",
       "      <th>SK</th>\n",
       "      <th>Stanford</th>\n",
       "      <th>Stanford_Cont-Pre</th>\n",
       "    </tr>\n",
       "    <tr>\n",
       "      <th>Task</th>\n",
       "      <th></th>\n",
       "      <th></th>\n",
       "      <th></th>\n",
       "      <th></th>\n",
       "      <th></th>\n",
       "    </tr>\n",
       "  </thead>\n",
       "  <tbody>\n",
       "    <tr>\n",
       "      <th>mortality_90</th>\n",
       "      <td>NaN</td>\n",
       "      <td>NaN</td>\n",
       "      <td>NaN</td>\n",
       "      <td>NaN</td>\n",
       "      <td>NaN</td>\n",
       "    </tr>\n",
       "    <tr>\n",
       "      <th>mortality_180</th>\n",
       "      <td>NaN</td>\n",
       "      <td>NaN</td>\n",
       "      <td>NaN</td>\n",
       "      <td>NaN</td>\n",
       "      <td>NaN</td>\n",
       "    </tr>\n",
       "    <tr>\n",
       "      <th>mortality_365</th>\n",
       "      <td>NaN</td>\n",
       "      <td>NaN</td>\n",
       "      <td>NaN</td>\n",
       "      <td>NaN</td>\n",
       "      <td>NaN</td>\n",
       "    </tr>\n",
       "  </tbody>\n",
       "</table>\n",
       "</div>"
      ],
      "text/plain": [
       "               SK [Count]  SK [Count] (GBM)  SK  Stanford  Stanford_Cont-Pre\n",
       "Task                                                                        \n",
       "mortality_90          NaN               NaN NaN       NaN                NaN\n",
       "mortality_180         NaN               NaN NaN       NaN                NaN\n",
       "mortality_365         NaN               NaN NaN       NaN                NaN"
      ]
     },
     "execution_count": 7,
     "metadata": {},
     "output_type": "execute_result"
    }
   ],
   "source": [
    "df_auprc = (\n",
    "    pd.DataFrame.from_dict(auprc_results)\n",
    "    .round(3)\n",
    "    .rename(columns=model_names)\n",
    "    .reset_index(names=\"Task\")\n",
    "    .replace(task_names)\n",
    "    .set_index(\"Task\")\n",
    "    .reindex(task_orders)\n",
    "    [column_orders]\n",
    ")\n",
    "\n",
    "df_auprc"
   ]
  },
  {
   "cell_type": "code",
   "execution_count": null,
   "id": "07750ffe-b05c-4f12-aed9-7034fe6becb7",
   "metadata": {},
   "outputs": [],
   "source": []
  }
 ],
 "metadata": {
  "kernelspec": {
   "display_name": "Python 3 (ipykernel)",
   "language": "python",
   "name": "python3"
  },
  "language_info": {
   "codemirror_mode": {
    "name": "ipython",
    "version": 3
   },
   "file_extension": ".py",
   "mimetype": "text/x-python",
   "name": "python",
   "nbconvert_exporter": "python",
   "pygments_lexer": "ipython3",
   "version": "3.10.10"
  }
 },
 "nbformat": 4,
 "nbformat_minor": 5
}
