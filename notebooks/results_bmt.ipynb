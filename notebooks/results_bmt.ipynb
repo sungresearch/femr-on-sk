{
 "cells": [
  {
   "cell_type": "code",
   "execution_count": 1,
   "id": "4f5d7f8e-8d27-48cd-966b-ce4f6d6a1c04",
   "metadata": {},
   "outputs": [],
   "source": [
    "import os\n",
    "import pickle\n",
    "import pandas as pd\n",
    "import numpy as np\n",
    "\n",
    "from src.io import read_pkl\n",
    "from src.default_paths import path_root\n",
    "from src.mappings import model_names, task_names"
   ]
  },
  {
   "cell_type": "code",
   "execution_count": 2,
   "id": "d5e45bab-eed8-4477-a109-39076e5f43f5",
   "metadata": {},
   "outputs": [],
   "source": [
    "PATH_TO_ADAPTER_MODELS_RESULTS = os.path.join(path_root, \"data/bmt\", \"evaluate\", \"adapter_models\")"
   ]
  },
  {
   "cell_type": "code",
   "execution_count": 3,
   "id": "540d930e-a96b-4325-a2a2-95e1cbbe1ca0",
   "metadata": {},
   "outputs": [],
   "source": [
    "def list_dir(path: str):\n",
    "    \"\"\"get list of file/directory names excluding nb checkpoints\"\"\"\n",
    "    \n",
    "    return [\n",
    "        x for x in os.listdir(path)\n",
    "        if x != \".ipynb_checkpoints\"\n",
    "    ]\n",
    "\n",
    "def bsp_res_to_str(results: list):\n",
    "    \"\"\"return formatted string of bootstrap results\"\"\"\n",
    "    \n",
    "    lower, med, upper = (\n",
    "        [\n",
    "            str(x) for x in \n",
    "            np.nanpercentile(results,[2.5, 50, 97.5])\n",
    "            .round(3)\n",
    "        ]\n",
    "    )\n",
    "    \n",
    "    return f\"{med} [{lower}, {upper}]\""
   ]
  },
  {
   "cell_type": "code",
   "execution_count": 4,
   "id": "a59c039a-fab1-4f16-873c-5dbbc96be1fa",
   "metadata": {},
   "outputs": [],
   "source": [
    "use_bootstrap = True\n",
    "\n",
    "auroc_results = {}\n",
    "auprc_results = {}\n",
    "\n",
    "models = list_dir(PATH_TO_ADAPTER_MODELS_RESULTS)\n",
    "\n",
    "for model in models:\n",
    "    tasks = list_dir(os.path.join(PATH_TO_ADAPTER_MODELS_RESULTS, model))\n",
    "    auroc_results[model] = {}\n",
    "    auprc_results[model] = {}\n",
    "    \n",
    "    for task in tasks:\n",
    "        result = read_pkl(os.path.join(PATH_TO_ADAPTER_MODELS_RESULTS, model, task, \"results.pkl\"))\n",
    "        auroc_results[model][task] = bsp_res_to_str(result[\"auroc_bootstrap\"]) if use_bootstrap else result[\"auroc\"]\n",
    "        auprc_results[model][task] = bsp_res_to_str(result[\"auprc_bootstrap\"]) if use_bootstrap else result[\"auprc\"]"
   ]
  },
  {
   "cell_type": "code",
   "execution_count": 5,
   "id": "56f598df-08c2-4060-848d-f99bac4318c4",
   "metadata": {},
   "outputs": [
    {
     "data": {
      "text/plain": [
       "dict_keys(['clmbr_sk', 'clmbr_stanford_cp', 'clmbr_stanford', 'count_sk', 'count_sk_gbm'])"
      ]
     },
     "execution_count": 5,
     "metadata": {},
     "output_type": "execute_result"
    }
   ],
   "source": [
    "auroc_results.keys()"
   ]
  },
  {
   "cell_type": "code",
   "execution_count": 6,
   "id": "872aa0fe-5bb5-465a-94af-d843795f9fa7",
   "metadata": {},
   "outputs": [],
   "source": [
    "column_orders = [\n",
    "    \"SK [Count]\", \"SK [Count] (GBM)\", \"SK\",\n",
    "    \"Stanford\",\n",
    "    \"Stanford_Cont-Pre\",\n",
    "]\n",
    "\n",
    "task_orders = [\n",
    "    \"mortality_365\",\n",
    "]"
   ]
  },
  {
   "cell_type": "code",
   "execution_count": 7,
   "id": "c3ed1ed7-dd9f-4c82-a171-24bf49218074",
   "metadata": {},
   "outputs": [
    {
     "data": {
      "text/html": [
       "<div>\n",
       "<style scoped>\n",
       "    .dataframe tbody tr th:only-of-type {\n",
       "        vertical-align: middle;\n",
       "    }\n",
       "\n",
       "    .dataframe tbody tr th {\n",
       "        vertical-align: top;\n",
       "    }\n",
       "\n",
       "    .dataframe thead th {\n",
       "        text-align: right;\n",
       "    }\n",
       "</style>\n",
       "<table border=\"1\" class=\"dataframe\">\n",
       "  <thead>\n",
       "    <tr style=\"text-align: right;\">\n",
       "      <th></th>\n",
       "      <th>SK [Count]</th>\n",
       "      <th>SK [Count] (GBM)</th>\n",
       "      <th>SK</th>\n",
       "      <th>Stanford</th>\n",
       "      <th>Stanford_Cont-Pre</th>\n",
       "    </tr>\n",
       "    <tr>\n",
       "      <th>Task</th>\n",
       "      <th></th>\n",
       "      <th></th>\n",
       "      <th></th>\n",
       "      <th></th>\n",
       "      <th></th>\n",
       "    </tr>\n",
       "  </thead>\n",
       "  <tbody>\n",
       "    <tr>\n",
       "      <th>mortality_365</th>\n",
       "      <td>0.617 [0.059, 0.944]</td>\n",
       "      <td>0.5 [0.222, 0.778]</td>\n",
       "      <td>0.586 [0.235, 1.0]</td>\n",
       "      <td>0.438 [0.176, 0.706]</td>\n",
       "      <td>0.583 [0.25, 0.941]</td>\n",
       "    </tr>\n",
       "  </tbody>\n",
       "</table>\n",
       "</div>"
      ],
      "text/plain": [
       "                         SK [Count]    SK [Count] (GBM)                  SK   \n",
       "Task                                                                          \n",
       "mortality_365  0.617 [0.059, 0.944]  0.5 [0.222, 0.778]  0.586 [0.235, 1.0]  \\\n",
       "\n",
       "                           Stanford    Stanford_Cont-Pre  \n",
       "Task                                                      \n",
       "mortality_365  0.438 [0.176, 0.706]  0.583 [0.25, 0.941]  "
      ]
     },
     "execution_count": 7,
     "metadata": {},
     "output_type": "execute_result"
    }
   ],
   "source": [
    "df_auroc = (\n",
    "    pd.DataFrame.from_dict(auroc_results)\n",
    "    .round(3)\n",
    "    .rename(columns=model_names)\n",
    "    .reset_index(names=\"Task\")\n",
    "    .replace(task_names)\n",
    "    .set_index(\"Task\")\n",
    "    .reindex(task_orders)\n",
    "    [column_orders]\n",
    ")\n",
    "\n",
    "df_auroc"
   ]
  },
  {
   "cell_type": "code",
   "execution_count": 8,
   "id": "f4135ca8-82c7-4e22-86b3-36c5d89c208f",
   "metadata": {},
   "outputs": [
    {
     "data": {
      "text/html": [
       "<div>\n",
       "<style scoped>\n",
       "    .dataframe tbody tr th:only-of-type {\n",
       "        vertical-align: middle;\n",
       "    }\n",
       "\n",
       "    .dataframe tbody tr th {\n",
       "        vertical-align: top;\n",
       "    }\n",
       "\n",
       "    .dataframe thead th {\n",
       "        text-align: right;\n",
       "    }\n",
       "</style>\n",
       "<table border=\"1\" class=\"dataframe\">\n",
       "  <thead>\n",
       "    <tr style=\"text-align: right;\">\n",
       "      <th></th>\n",
       "      <th>SK [Count]</th>\n",
       "      <th>SK [Count] (GBM)</th>\n",
       "      <th>SK</th>\n",
       "      <th>Stanford</th>\n",
       "      <th>Stanford_Cont-Pre</th>\n",
       "    </tr>\n",
       "    <tr>\n",
       "      <th>Task</th>\n",
       "      <th></th>\n",
       "      <th></th>\n",
       "      <th></th>\n",
       "      <th></th>\n",
       "      <th></th>\n",
       "    </tr>\n",
       "  </thead>\n",
       "  <tbody>\n",
       "    <tr>\n",
       "      <th>mortality_365</th>\n",
       "      <td>0.333 [-0.0, 0.848]</td>\n",
       "      <td>0.217 [-0.0, 0.492]</td>\n",
       "      <td>0.333 [-0.0, 1.0]</td>\n",
       "      <td>0.195 [-0.0, 0.435]</td>\n",
       "      <td>0.286 [-0.0, 0.744]</td>\n",
       "    </tr>\n",
       "  </tbody>\n",
       "</table>\n",
       "</div>"
      ],
      "text/plain": [
       "                        SK [Count]     SK [Count] (GBM)                 SK   \n",
       "Task                                                                         \n",
       "mortality_365  0.333 [-0.0, 0.848]  0.217 [-0.0, 0.492]  0.333 [-0.0, 1.0]  \\\n",
       "\n",
       "                          Stanford    Stanford_Cont-Pre  \n",
       "Task                                                     \n",
       "mortality_365  0.195 [-0.0, 0.435]  0.286 [-0.0, 0.744]  "
      ]
     },
     "execution_count": 8,
     "metadata": {},
     "output_type": "execute_result"
    }
   ],
   "source": [
    "df_auprc = (\n",
    "    pd.DataFrame.from_dict(auprc_results)\n",
    "    .round(3)\n",
    "    .rename(columns=model_names)\n",
    "    .reset_index(names=\"Task\")\n",
    "    .replace(task_names)\n",
    "    .set_index(\"Task\")\n",
    "    .reindex(task_orders)\n",
    "    [column_orders]\n",
    ")\n",
    "\n",
    "df_auprc"
   ]
  },
  {
   "cell_type": "code",
   "execution_count": null,
   "id": "07750ffe-b05c-4f12-aed9-7034fe6becb7",
   "metadata": {},
   "outputs": [],
   "source": []
  }
 ],
 "metadata": {
  "kernelspec": {
   "display_name": "Python 3 (ipykernel)",
   "language": "python",
   "name": "python3"
  },
  "language_info": {
   "codemirror_mode": {
    "name": "ipython",
    "version": 3
   },
   "file_extension": ".py",
   "mimetype": "text/x-python",
   "name": "python",
   "nbconvert_exporter": "python",
   "pygments_lexer": "ipython3",
   "version": "3.10.10"
  }
 },
 "nbformat": 4,
 "nbformat_minor": 5
}
