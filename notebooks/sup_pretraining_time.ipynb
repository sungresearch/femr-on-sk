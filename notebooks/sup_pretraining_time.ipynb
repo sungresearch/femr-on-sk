{
 "cells": [
  {
   "cell_type": "code",
   "execution_count": 1,
   "id": "9c6f028a-e404-47c1-8106-bc6eb6aeb603",
   "metadata": {},
   "outputs": [],
   "source": [
    "import os\n",
    "import datetime\n",
    "import numpy as np\n",
    "\n",
    "from src.default_paths import path_root\n",
    "from src.utils import list_dir, get_best_clmbr_model"
   ]
  },
  {
   "cell_type": "code",
   "execution_count": 2,
   "id": "8d055a10-f273-4c12-b13c-cba7d7cbc6df",
   "metadata": {},
   "outputs": [],
   "source": [
    "path_models = os.path.join(path_root, \"data/clmbr_models\")"
   ]
  },
  {
   "cell_type": "code",
   "execution_count": 3,
   "id": "a4e41513-cc46-4eb1-a0ff-5c165b1abb8a",
   "metadata": {},
   "outputs": [],
   "source": [
    "all_paths = {}\n",
    "for model in [\"clmbr_sk\", \"clmbr_stanford_cp\", \"clmbr_stanford_tapt\"]:\n",
    "    \n",
    "    all_paths[model] = os.path.join(\n",
    "        path_models, \n",
    "        model, \n",
    "        get_best_clmbr_model(os.path.join(path_models, model))\n",
    "    )"
   ]
  },
  {
   "cell_type": "code",
   "execution_count": 4,
   "id": "a0acfdd0-3dfd-4a58-a6eb-6d68b5ac6fbf",
   "metadata": {},
   "outputs": [],
   "source": [
    "def get_loss_from_line(line):\n",
    "    return line.split(\"'loss': \")[1].split(\",\")[0]\n",
    "\n",
    "def get_datetime_from_line(line):\n",
    "    str_datetime = line.split(\"[\")[0].split(\",\")[0]\n",
    "    str_date, str_ts = str_datetime.split(\" \")\n",
    "    y, m, d = [int(x) for x in str_date.split('-')]\n",
    "    h, mi, s = [int(x) for x in str_ts.split(':')] \n",
    "    return datetime.datetime(y,m,d,h,mi,s)"
   ]
  },
  {
   "cell_type": "code",
   "execution_count": 5,
   "id": "db449a4e-856f-4b2e-8ffb-013ca5d273a3",
   "metadata": {},
   "outputs": [
    {
     "name": "stdout",
     "output_type": "stream",
     "text": [
      "model='clmbr_sk', time_to_best_model=9.86 hours\n",
      "model='clmbr_stanford_cp', time_to_best_model=1.46 hours\n",
      "model='clmbr_stanford_tapt', time_to_best_model=0.99 hours\n"
     ]
    }
   ],
   "source": [
    "losses = {}\n",
    "for model, path_model in all_paths.items():\n",
    "    \n",
    "    losses[model] = {\n",
    "        \"dev_loss\": [],\n",
    "        \"dev_loss_datetime\": []\n",
    "    }\n",
    "    \n",
    "    path_log = os.path.join(path_model, \"clmbr_model\", \"log\")\n",
    "    \n",
    "    with open(path_log, \"r\") as f:\n",
    "        for line in f:\n",
    "            if \"[Step 0]\" in line:\n",
    "                losses[model][\"starting_datetime\"] = get_datetime_from_line(line)\n",
    "            if \"Dev loss\" in line:\n",
    "                losses[model][\"dev_loss\"].append(get_loss_from_line(line))\n",
    "                losses[model][\"dev_loss_datetime\"].append(get_datetime_from_line(line))\n",
    "                \n",
    "    index_best_model = np.where(\n",
    "        np.asarray(losses[model][\"dev_loss\"])==min(losses[model][\"dev_loss\"])\n",
    "    )[0][0]\n",
    "    \n",
    "    time_to_best_model = round(\n",
    "        (losses[model][\"dev_loss_datetime\"][index_best_model] - losses[model][\"starting_datetime\"]).total_seconds()/3600,\n",
    "        2\n",
    "    )\n",
    "    \n",
    "    print(f\"{model=}, {time_to_best_model=} hours\")"
   ]
  },
  {
   "cell_type": "code",
   "execution_count": null,
   "id": "125ef661-82fd-44bf-bedc-df961f1a1e7a",
   "metadata": {},
   "outputs": [],
   "source": []
  }
 ],
 "metadata": {
  "kernelspec": {
   "display_name": "Python 3 (ipykernel)",
   "language": "python",
   "name": "python3"
  },
  "language_info": {
   "codemirror_mode": {
    "name": "ipython",
    "version": 3
   },
   "file_extension": ".py",
   "mimetype": "text/x-python",
   "name": "python",
   "nbconvert_exporter": "python",
   "pygments_lexer": "ipython3",
   "version": "3.10.10"
  }
 },
 "nbformat": 4,
 "nbformat_minor": 5
}
