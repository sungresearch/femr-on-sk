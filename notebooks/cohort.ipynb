{
 "cells": [
  {
   "cell_type": "code",
   "execution_count": 1,
   "id": "ff271b61-0aa6-4924-9639-275fa49070d0",
   "metadata": {},
   "outputs": [],
   "source": [
    "import os\n",
    "import pandas as pd\n",
    "\n",
    "from src.utils import list_dir"
   ]
  },
  {
   "cell_type": "code",
   "execution_count": 2,
   "id": "d712874d-756d-47bc-afce-8895e7328f3b",
   "metadata": {},
   "outputs": [],
   "source": [
    "path = \"/hpf/projects/lsung/phi/projects/lguo/femr-on-sk/data\"\n",
    "path_labels = os.path.join(path, \"labels\")"
   ]
  },
  {
   "cell_type": "code",
   "execution_count": 3,
   "id": "38570fc0-fb32-41c4-b922-d1fbfa648aa5",
   "metadata": {},
   "outputs": [],
   "source": [
    "df_cohort = pd.read_csv(os.path.join(path, \"cohort/ip_cohort/cohort.csv\"))\n",
    "df_cohort = df_cohort.query(\"age_at_admission_days>=28 and discharge_datetime > index_datetime\")\n",
    "#df_cohort = df_cohort.query(\"age_at_admission_days>=28 and age_at_admission_days<18*365.25\")[[\"person_id\"]]"
   ]
  },
  {
   "cell_type": "code",
   "execution_count": 4,
   "id": "7fc7cca4-14a1-4f7d-b884-0c17125f3a63",
   "metadata": {},
   "outputs": [
    {
     "data": {
      "text/plain": [
       "(37960, 6)"
      ]
     },
     "execution_count": 4,
     "metadata": {},
     "output_type": "execute_result"
    }
   ],
   "source": [
    "df_cohort.shape"
   ]
  },
  {
   "cell_type": "code",
   "execution_count": 6,
   "id": "055985ee-0220-41cf-a64f-538bad7c0d39",
   "metadata": {},
   "outputs": [
    {
     "name": "stdout",
     "output_type": "stream",
     "text": [
      "anemia_lab: num_patients=14605, num_pos=983 (6.7%), IQR='N/A'\n",
      "anemia_lab_sql: num_patients=37591, num_pos=1073 (2.9%), IQR=array([ 71.,  95., 111., 125., 143.])\n",
      "hyperkalemia_lab: num_patients=14480, num_pos=1323 (9.1%), IQR='N/A'\n",
      "hyperkalemia_lab_sql: num_patients=37564, num_pos=352 (0.9%), IQR=array([3.7, 4.1, 4.5, 5. , 6.2])\n",
      "hypoglycemia_lab: num_patients=13691, num_pos=1920 (14.0%), IQR='N/A'\n",
      "hypoglycemia_lab_sql: num_patients=37722, num_pos=459 (1.2%), IQR=array([3.4, 4.5, 5.1, 5.8, 7.8])\n",
      "hyponatremia_lab: num_patients=14488, num_pos=520 (3.6%), IQR='N/A'\n",
      "hyponatremia_lab_sql: num_patients=37880, num_pos=92 (0.2%), IQR=array([132., 136., 138., 140., 143.])\n",
      "long_los: num_patients=21375, num_pos=5373 (25.1%), IQR='N/A'\n",
      "long_los_sql: num_patients=37960, num_pos=6115 (16.1%), IQR='N/A'\n",
      "mortality: num_patients=21358, num_pos=87 (0.4%), IQR='N/A'\n",
      "mortality_sql: num_patients=37960, num_pos=216 (0.6%), IQR='N/A'\n",
      "readmission: num_patients=21874, num_pos=1193 (5.5%), IQR='N/A'\n",
      "readmission_sql: num_patients=37914, num_pos=2275 (6.0%), IQR='N/A'\n",
      "thrombocytopenia_lab: num_patients=14473, num_pos=1193 (8.2%), IQR='N/A'\n",
      "thrombocytopenia_lab_sql: num_patients=37731, num_pos=726 (1.9%), IQR=array([ 79., 190., 262., 346., 515.])\n"
     ]
    }
   ],
   "source": [
    "labels = list_dir(path_labels)\n",
    "labels.sort()\n",
    "\n",
    "for label in labels:\n",
    "    try:\n",
    "        df = (\n",
    "            pd.read_csv(os.path.join(path_labels, label, \"labeled_patients.csv\"))\n",
    "            #.merge(df_cohort, how=\"inner\", left_on=\"patient_id\", right_on=\"person_id\")\n",
    "        )\n",
    "        \n",
    "        num_patients = df.shape[0]\n",
    "        num_pos = df.value.sum()\n",
    "        perc_pos = round(num_pos/num_patients*100,1)\n",
    "        \n",
    "        if \"min_max_value\" in df.columns:\n",
    "            IQR = df[\"min_max_value\"].quantile([0.05, 0.25, 0.5, 0.75, 0.95]).values\n",
    "        else:\n",
    "            IQR = \"N/A\"\n",
    "\n",
    "        print(f\"{label}: {num_patients=}, {num_pos=} ({perc_pos}%), {IQR=}\")\n",
    "        \n",
    "    except:\n",
    "        continue\n",
    "        \n",
    "    "
   ]
  },
  {
   "cell_type": "code",
   "execution_count": null,
   "id": "fa7d4fb3-22c6-44f6-95e5-5c7fb1bf3382",
   "metadata": {},
   "outputs": [],
   "source": []
  }
 ],
 "metadata": {
  "kernelspec": {
   "display_name": "Python 3 (ipykernel)",
   "language": "python",
   "name": "python3"
  },
  "language_info": {
   "codemirror_mode": {
    "name": "ipython",
    "version": 3
   },
   "file_extension": ".py",
   "mimetype": "text/x-python",
   "name": "python",
   "nbconvert_exporter": "python",
   "pygments_lexer": "ipython3",
   "version": "3.10.10"
  }
 },
 "nbformat": 4,
 "nbformat_minor": 5
}
