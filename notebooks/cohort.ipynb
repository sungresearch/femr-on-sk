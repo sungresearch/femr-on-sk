{
 "cells": [
  {
   "cell_type": "code",
   "execution_count": 1,
   "id": "ff271b61-0aa6-4924-9639-275fa49070d0",
   "metadata": {},
   "outputs": [],
   "source": [
    "import os\n",
    "import pandas as pd\n",
    "\n",
    "from src.utils import list_dir\n",
    "from src.default_paths import path_root"
   ]
  },
  {
   "cell_type": "code",
   "execution_count": 2,
   "id": "d712874d-756d-47bc-afce-8895e7328f3b",
   "metadata": {},
   "outputs": [],
   "source": [
    "path = os.path.join(path_root, \"data\")\n",
    "path_labels = os.path.join(path, \"labels\")"
   ]
  },
  {
   "cell_type": "code",
   "execution_count": 3,
   "id": "38570fc0-fb32-41c4-b922-d1fbfa648aa5",
   "metadata": {},
   "outputs": [],
   "source": [
    "df_cohort = pd.read_csv(os.path.join(path, \"cohort/ip_cohort/cohort.csv\"))\n",
    "df_cohort = df_cohort.query(\"age_at_admission_days>=28 and discharge_datetime > index_datetime\")"
   ]
  },
  {
   "cell_type": "code",
   "execution_count": 4,
   "id": "1b3ca332",
   "metadata": {},
   "outputs": [
    {
     "data": {
      "text/plain": [
       "(37960, 6)"
      ]
     },
     "execution_count": 4,
     "metadata": {},
     "output_type": "execute_result"
    }
   ],
   "source": [
    "df_cohort.shape"
   ]
  },
  {
   "cell_type": "code",
   "execution_count": 5,
   "id": "7fc7cca4-14a1-4f7d-b884-0c17125f3a63",
   "metadata": {},
   "outputs": [
    {
     "name": "stdout",
     "output_type": "stream",
     "text": [
      "Age median = 7.0, IQR = [2.0, 13.0]\n"
     ]
    }
   ],
   "source": [
    "q1, q2, q3 = (df_cohort[\"age_at_admission_days\"]/365).round().quantile([0.25, 0.5, 0.75]).values\n",
    "print(f\"Age median = {q2}, IQR = [{q1}, {q3}]\")"
   ]
  },
  {
   "cell_type": "code",
   "execution_count": 6,
   "id": "85ce2bee",
   "metadata": {},
   "outputs": [
    {
     "name": "stdout",
     "output_type": "stream",
     "text": [
      "Sex: {'M': 20507, 'F': 17449, 'OTHER': 4}\n"
     ]
    }
   ],
   "source": [
    "sex_counts = df_cohort[\"sex\"].value_counts().to_dict()\n",
    "print(f\"Sex: {sex_counts}\")"
   ]
  },
  {
   "cell_type": "code",
   "execution_count": 10,
   "id": "93fbfb17",
   "metadata": {},
   "outputs": [
    {
     "data": {
      "text/plain": [
       "{'M': 54.0, 'F': 46.0, 'OTHER': 0.0}"
      ]
     },
     "execution_count": 10,
     "metadata": {},
     "output_type": "execute_result"
    }
   ],
   "source": [
    "{k:round(v/df_cohort.shape[0]*100,1) for k,v in sex_counts.items()}"
   ]
  },
  {
   "cell_type": "code",
   "execution_count": 25,
   "id": "055985ee-0220-41cf-a64f-538bad7c0d39",
   "metadata": {},
   "outputs": [
    {
     "name": "stdout",
     "output_type": "stream",
     "text": [
      "anemia_lab_sql: num_patients=37591, num_pos=1073 (2.9%), num_measurements=24669, 0.656, IQR=array([ 95., 111., 125.])\n",
      "hyperkalemia_lab_sql: num_patients=37564, num_pos=352 (0.9%), num_measurements=23503, 0.626, IQR=array([4.1, 4.5, 5. ])\n",
      "hypoglycemia_lab_sql: num_patients=37722, num_pos=459 (1.2%), num_measurements=20484, 0.543, IQR=array([4.5, 5.1, 5.8])\n",
      "hyponatremia_lab_sql: num_patients=37880, num_pos=92 (0.2%), num_measurements=24052, 0.635, IQR=array([136., 138., 140.])\n",
      "long_los_sql: num_patients=37960, num_pos=6115 (16.1%), num_measurements='N/A', N/A, IQR='N/A'\n",
      "mortality_sql: num_patients=37960, num_pos=216 (0.6%), num_measurements='N/A', N/A, IQR='N/A'\n",
      "readmission_sql: num_patients=37914, num_pos=2275 (6.0%), num_measurements='N/A', N/A, IQR='N/A'\n",
      "thrombocytopenia_lab_sql: num_patients=37731, num_pos=726 (1.9%), num_measurements=24541, 0.65, IQR=array([190., 262., 346.])\n"
     ]
    }
   ],
   "source": [
    "labels = list_dir(path_labels)\n",
    "labels.sort()\n",
    "\n",
    "for label in labels:\n",
    "    try:\n",
    "        df = (\n",
    "            pd.read_csv(os.path.join(path_labels, label, \"labeled_patients.csv\"))\n",
    "        )\n",
    "        \n",
    "        num_patients = df.shape[0]\n",
    "        num_pos = df.value.sum()\n",
    "        perc_pos = round(num_pos/num_patients*100,1)\n",
    "        \n",
    "        if \"min_max_value\" in df.columns:\n",
    "            IQR = df[\"min_max_value\"].quantile([0.25, 0.5, 0.75]).values.round(1)\n",
    "            num_measurements = (~df[\"min_max_value\"].isnull()).sum()\n",
    "            perc_measurements = round(num_measurements/num_patients, 3)\n",
    "        else:\n",
    "            IQR = \"N/A\"\n",
    "            num_measurements = \"N/A\"\n",
    "            perc_measurements = \"N/A\"\n",
    "\n",
    "        print(f\"{label}: {num_patients=}, {num_pos=} ({perc_pos}%), {num_measurements=}, {perc_measurements}, {IQR=}\")\n",
    "        \n",
    "    except:\n",
    "        continue\n",
    "        \n",
    "    "
   ]
  },
  {
   "cell_type": "code",
   "execution_count": null,
   "id": "fa7d4fb3-22c6-44f6-95e5-5c7fb1bf3382",
   "metadata": {},
   "outputs": [],
   "source": []
  }
 ],
 "metadata": {
  "kernelspec": {
   "display_name": "Python 3 (ipykernel)",
   "language": "python",
   "name": "python3"
  },
  "language_info": {
   "codemirror_mode": {
    "name": "ipython",
    "version": 3
   },
   "file_extension": ".py",
   "mimetype": "text/x-python",
   "name": "python",
   "nbconvert_exporter": "python",
   "pygments_lexer": "ipython3",
   "version": "3.10.10"
  }
 },
 "nbformat": 4,
 "nbformat_minor": 5
}
