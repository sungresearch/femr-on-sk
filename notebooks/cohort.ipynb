{
 "cells": [
  {
   "cell_type": "code",
   "execution_count": 16,
   "id": "ff271b61-0aa6-4924-9639-275fa49070d0",
   "metadata": {},
   "outputs": [],
   "source": [
    "import os\n",
    "import pandas as pd\n",
    "\n",
    "from src.io import read_pkl\n",
    "from src.default_paths import path_root, path_extract\n",
    "from src.utils import hash_pids"
   ]
  },
  {
   "cell_type": "code",
   "execution_count": 23,
   "id": "d712874d-756d-47bc-afce-8895e7328f3b",
   "metadata": {},
   "outputs": [
    {
     "data": {
      "text/plain": [
       "'/hpf/projects/lsung/phi/data/femr_extract'"
      ]
     },
     "execution_count": 23,
     "metadata": {},
     "output_type": "execute_result"
    }
   ],
   "source": [
    "path_extract"
   ]
  },
  {
   "cell_type": "code",
   "execution_count": 5,
   "id": "055985ee-0220-41cf-a64f-538bad7c0d39",
   "metadata": {},
   "outputs": [],
   "source": [
    "path = os.path.join(path_root, \"data\", \"labels\")\n",
    "tasks = [\"mortality\", \"long_los\", \"readmission\"]"
   ]
  },
  {
   "cell_type": "code",
   "execution_count": 19,
   "id": "4b2701ad-5127-4a75-a1ae-f1347c0e28b6",
   "metadata": {},
   "outputs": [
    {
     "name": "stdout",
     "output_type": "stream",
     "text": [
      "task='mortality', n_train_patients=18097\n",
      "task='long_los', n_train_patients=18097\n",
      "task='readmission', n_train_patients=18545\n"
     ]
    }
   ],
   "source": [
    "for task in tasks:\n",
    "    labels = read_pkl(os.path.join(path, task, \"labeled_patients.pkl\"))\n",
    "    \n",
    "    n_train_patients = len(\n",
    "        [\n",
    "            k for k,v in labels.patients_to_labels.items() \n",
    "            if v\n",
    "            and hash_pids(path_extract, [k]) < 85\n",
    "        ]\n",
    "    )\n",
    "    \n",
    "    print(f\"{task=}, {n_train_patients=}\")"
   ]
  },
  {
   "cell_type": "code",
   "execution_count": 22,
   "id": "c0201455-7c02-4c0b-88e9-f4e61239248d",
   "metadata": {},
   "outputs": [
    {
     "data": {
      "text/plain": [
       "[0.01096130658774526,\n",
       " 0.02192261317549052,\n",
       " 0.04384522635098104,\n",
       " 0.08769045270196207,\n",
       " 0.17538090540392415,\n",
       " 0.3507618108078483,\n",
       " 0.7015236216156966]"
      ]
     },
     "execution_count": 22,
     "metadata": {},
     "output_type": "execute_result"
    }
   ],
   "source": [
    "N_samples = [2, 4, 8, 16, 32, 64, 128]\n",
    "[x/18246*100 for x in N_samples]"
   ]
  },
  {
   "cell_type": "code",
   "execution_count": null,
   "id": "ecd167b9-92c7-40d4-a010-73bcb299f60d",
   "metadata": {},
   "outputs": [],
   "source": []
  }
 ],
 "metadata": {
  "kernelspec": {
   "display_name": "Python 3 (ipykernel)",
   "language": "python",
   "name": "python3"
  },
  "language_info": {
   "codemirror_mode": {
    "name": "ipython",
    "version": 3
   },
   "file_extension": ".py",
   "mimetype": "text/x-python",
   "name": "python",
   "nbconvert_exporter": "python",
   "pygments_lexer": "ipython3",
   "version": "3.10.9"
  }
 },
 "nbformat": 4,
 "nbformat_minor": 5
}
