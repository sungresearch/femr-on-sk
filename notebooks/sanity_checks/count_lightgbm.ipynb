{
 "cells": [
  {
   "cell_type": "code",
   "execution_count": 20,
   "id": "c1e10f92-0629-4018-a2a6-bb507a5a1e7e",
   "metadata": {},
   "outputs": [],
   "source": [
    "import os\n",
    "\n",
    "import numpy as np\n",
    "\n",
    "from lightgbm import LGBMClassifier as gbm\n",
    "from sklearn.model_selection import ParameterGrid\n",
    "from sklearn.model_selection import cross_val_score\n",
    "\n",
    "from src.utils import save_to_pkl, read_pkl, load_features, hash_pids\n",
    "from src.default_paths import path_extract"
   ]
  },
  {
   "cell_type": "code",
   "execution_count": 2,
   "id": "28f0ec6e-5801-45e0-88d7-d963d5a9fbe0",
   "metadata": {},
   "outputs": [],
   "source": [
    "PATH_TO_FEATURES = \"/hpf/projects/lsung/projects/lguo/femr-on-sk/data/features/count_sk/long_los/featurized_patients.pkl\"\n",
    "PATH_TO_LABELS = \"/hpf/projects/lsung/projects/lguo/femr-on-sk/data/labels/long_los/labeled_patients.pkl\""
   ]
  },
  {
   "cell_type": "code",
   "execution_count": 3,
   "id": "0f7d032c-9884-4542-8ac4-5527634cfdd0",
   "metadata": {},
   "outputs": [],
   "source": [
    "X_train, y_train = load_features(\n",
    "    path_extract,\n",
    "    PATH_TO_FEATURES,\n",
    "    PATH_TO_LABELS,\n",
    "    \"count\",\n",
    "    is_train=True,\n",
    ")"
   ]
  },
  {
   "cell_type": "code",
   "execution_count": 12,
   "id": "e601fcb6-2830-47b9-9e9f-adb607ab95e4",
   "metadata": {},
   "outputs": [],
   "source": [
    "all_hparams = {\n",
    "    \"learning_rate\": [0.1, 0.2, 0.01],\n",
    "    \"num_leaves\": [100, 300],\n",
    "    \"n_estimators\": [1000],\n",
    "    \"max_depth\": [1],\n",
    "    \"boosting_type\": [\"gbdt\", \"dart\", \"goss\"],\n",
    "    \"objective\": [\"binary\"],\n",
    "    \"metric\": [\"binary_logloss\"],\n",
    "    \"first_metric_only\": [True]\n",
    "}\n",
    "\n",
    "param_grid = list(ParameterGrid(all_hparams))"
   ]
  },
  {
   "cell_type": "code",
   "execution_count": null,
   "id": "ee65ace8-3afb-45d6-90bc-4f867063fd98",
   "metadata": {},
   "outputs": [],
   "source": [
    "for hparams in param_grid:\n",
    "    m = gbm(n_jobs=4, **hparams)\n",
    "    scores = cross_val_score(m, X_train, y_train, cv=5)\n",
    "    break"
   ]
  },
  {
   "cell_type": "code",
   "execution_count": null,
   "id": "75f07476-a68e-4c75-abea-06fd04b01997",
   "metadata": {},
   "outputs": [],
   "source": [
    "m"
   ]
  },
  {
   "cell_type": "code",
   "execution_count": null,
   "id": "bca47f97-f360-4dae-891f-5b3d798e8f57",
   "metadata": {},
   "outputs": [],
   "source": []
  }
 ],
 "metadata": {
  "kernelspec": {
   "display_name": "Python 3 (ipykernel)",
   "language": "python",
   "name": "python3"
  },
  "language_info": {
   "codemirror_mode": {
    "name": "ipython",
    "version": 3
   },
   "file_extension": ".py",
   "mimetype": "text/x-python",
   "name": "python",
   "nbconvert_exporter": "python",
   "pygments_lexer": "ipython3",
   "version": "3.10.10"
  }
 },
 "nbformat": 4,
 "nbformat_minor": 5
}
