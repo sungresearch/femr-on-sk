{
 "cells": [
  {
   "cell_type": "code",
   "execution_count": 2,
   "id": "6ddb6bbf-d451-4722-9146-233ffc5db3ba",
   "metadata": {},
   "outputs": [],
   "source": [
    "import os\n",
    "import numpy as np\n",
    "import pandas as pd\n",
    "import matplotlib.pyplot as plt\n",
    "\n",
    "from src.utils import read_pkl"
   ]
  },
  {
   "cell_type": "code",
   "execution_count": 1,
   "id": "32880738-e6c8-4dfd-bea8-0b91eaa019fb",
   "metadata": {},
   "outputs": [],
   "source": [
    "PATH_RESULTS_AFTER_INDEX = \"/hpf/projects/lsung/projects/lguo/femr-on-sk/data/sanity_checks/timeline_ablation/evaluate/clmbr_stanford/results.pkl\"\n",
    "PATH_RESULTS_BEFORE_INDEX = \"/hpf/projects/lsung/projects/lguo/femr-on-sk/data/sanity_checks/timeline_ablation/evaluate/clmbr_stanford_before_index/results.pkl\""
   ]
  },
  {
   "cell_type": "code",
   "execution_count": 3,
   "id": "af220a74-2cb1-47d4-9186-56acfa4b0f29",
   "metadata": {},
   "outputs": [],
   "source": [
    "results_after_index = read_pkl(PATH_RESULTS_AFTER_INDEX)\n",
    "results_before_index = read_pkl(PATH_RESULTS_BEFORE_INDEX)"
   ]
  },
  {
   "cell_type": "code",
   "execution_count": 5,
   "id": "c48534d9-47a4-4c32-aa07-23b9b440b814",
   "metadata": {},
   "outputs": [
    {
     "data": {
      "text/plain": [
       "(0.845, 0.842)"
      ]
     },
     "execution_count": 5,
     "metadata": {},
     "output_type": "execute_result"
    }
   ],
   "source": [
    "# same results\n",
    "results_after_index['auroc'].round(3), results_before_index['auroc'].round(3)"
   ]
  },
  {
   "cell_type": "code",
   "execution_count": null,
   "id": "dbb72e71-5cf9-4565-8aab-5fdde465333a",
   "metadata": {},
   "outputs": [],
   "source": []
  }
 ],
 "metadata": {
  "kernelspec": {
   "display_name": "Python 3 (ipykernel)",
   "language": "python",
   "name": "python3"
  },
  "language_info": {
   "codemirror_mode": {
    "name": "ipython",
    "version": 3
   },
   "file_extension": ".py",
   "mimetype": "text/x-python",
   "name": "python",
   "nbconvert_exporter": "python",
   "pygments_lexer": "ipython3",
   "version": "3.10.10"
  }
 },
 "nbformat": 4,
 "nbformat_minor": 5
}
