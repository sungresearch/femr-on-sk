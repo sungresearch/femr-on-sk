{
 "cells": [
  {
   "cell_type": "code",
   "execution_count": 1,
   "id": "a403b907-0711-42e3-b83a-77434b4ebc40",
   "metadata": {},
   "outputs": [],
   "source": [
    "import os\n",
    "import numpy as np\n",
    "import pandas as pd\n",
    "import matplotlib.pyplot as plt\n",
    "\n",
    "from src.utils import read_pkl"
   ]
  },
  {
   "cell_type": "code",
   "execution_count": 2,
   "id": "e7d81861-8c6d-40c9-8e0f-0c170e1c8b0a",
   "metadata": {},
   "outputs": [],
   "source": [
    "PATH_RESULTS = \"/hpf/projects/lsung/projects/lguo/femr-on-sk/data/sanity_checks/rand_los_prediction\""
   ]
  },
  {
   "cell_type": "code",
   "execution_count": 5,
   "id": "16d0b812-2cd7-4063-8c08-f03f5248d4d2",
   "metadata": {},
   "outputs": [
    {
     "data": {
      "text/html": [
       "<div>\n",
       "<style scoped>\n",
       "    .dataframe tbody tr th:only-of-type {\n",
       "        vertical-align: middle;\n",
       "    }\n",
       "\n",
       "    .dataframe tbody tr th {\n",
       "        vertical-align: top;\n",
       "    }\n",
       "\n",
       "    .dataframe thead th {\n",
       "        text-align: right;\n",
       "    }\n",
       "</style>\n",
       "<table border=\"1\" class=\"dataframe\">\n",
       "  <thead>\n",
       "    <tr style=\"text-align: right;\">\n",
       "      <th></th>\n",
       "      <th>0</th>\n",
       "    </tr>\n",
       "  </thead>\n",
       "  <tbody>\n",
       "    <tr>\n",
       "      <th>results_clmbr_stanford</th>\n",
       "      <td>0.597</td>\n",
       "    </tr>\n",
       "    <tr>\n",
       "      <th>results_clmbr_sk</th>\n",
       "      <td>0.598</td>\n",
       "    </tr>\n",
       "    <tr>\n",
       "      <th>results_count</th>\n",
       "      <td>0.566</td>\n",
       "    </tr>\n",
       "  </tbody>\n",
       "</table>\n",
       "</div>"
      ],
      "text/plain": [
       "                            0\n",
       "results_clmbr_stanford  0.597\n",
       "results_clmbr_sk        0.598\n",
       "results_count           0.566"
      ]
     },
     "execution_count": 5,
     "metadata": {},
     "output_type": "execute_result"
    }
   ],
   "source": [
    "result_files = [\n",
    "    x for x in os.listdir(PATH_RESULTS)\n",
    "    if \"result\" in x\n",
    "]\n",
    "\n",
    "results = {}\n",
    "for file in result_files:\n",
    "    model = file.split('.')[0]\n",
    "    results[model] = round(read_pkl(os.path.join(PATH_RESULTS, file))['auroc'],3)\n",
    "    \n",
    "pd.DataFrame.from_dict(results, orient=\"index\")"
   ]
  },
  {
   "cell_type": "markdown",
   "id": "7ab73338-dcc2-4dc8-a9d4-a46faf1e1d0b",
   "metadata": {},
   "source": [
    "#### Investigate labels\n",
    "44% makes sense - more patients are probably discharged after staying over night"
   ]
  },
  {
   "cell_type": "code",
   "execution_count": 10,
   "id": "cb43d786-2834-4428-bcda-517c580e73bd",
   "metadata": {},
   "outputs": [
    {
     "data": {
      "text/plain": [
       "0.44243559718969555"
      ]
     },
     "execution_count": 10,
     "metadata": {},
     "output_type": "execute_result"
    }
   ],
   "source": [
    "labeled_patients = read_pkl(os.path.join(PATH_RESULTS, \"labeled_patients.pkl\"))\n",
    "np.mean([v[0].value for _,v in labeled_patients.get_patients_to_labels().items() if v])"
   ]
  },
  {
   "cell_type": "code",
   "execution_count": null,
   "id": "3f0ef2fc-f054-4841-ac57-12e7c03121ca",
   "metadata": {},
   "outputs": [],
   "source": []
  }
 ],
 "metadata": {
  "kernelspec": {
   "display_name": "Python 3 (ipykernel)",
   "language": "python",
   "name": "python3"
  },
  "language_info": {
   "codemirror_mode": {
    "name": "ipython",
    "version": 3
   },
   "file_extension": ".py",
   "mimetype": "text/x-python",
   "name": "python",
   "nbconvert_exporter": "python",
   "pygments_lexer": "ipython3",
   "version": "3.10.10"
  }
 },
 "nbformat": 4,
 "nbformat_minor": 5
}
