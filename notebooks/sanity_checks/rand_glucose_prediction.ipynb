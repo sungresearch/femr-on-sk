{
 "cells": [
  {
   "cell_type": "markdown",
   "id": "402da9cb-fafc-44cb-91ed-a6c1582a6756",
   "metadata": {},
   "source": [
    "## Need to investigate Lab based labelers"
   ]
  },
  {
   "cell_type": "code",
   "execution_count": 1,
   "id": "a403b907-0711-42e3-b83a-77434b4ebc40",
   "metadata": {},
   "outputs": [],
   "source": [
    "import os\n",
    "import numpy as np\n",
    "import pandas as pd\n",
    "import matplotlib.pyplot as plt\n",
    "\n",
    "from src.utils import read_pkl"
   ]
  },
  {
   "cell_type": "code",
   "execution_count": 2,
   "id": "e7d81861-8c6d-40c9-8e0f-0c170e1c8b0a",
   "metadata": {},
   "outputs": [],
   "source": [
    "PATH_RESULTS = \"/hpf/projects/lsung/projects/lguo/femr-on-sk/data/sanity_checks/rand_glucose_prediction\""
   ]
  },
  {
   "cell_type": "code",
   "execution_count": 3,
   "id": "16d0b812-2cd7-4063-8c08-f03f5248d4d2",
   "metadata": {},
   "outputs": [
    {
     "data": {
      "text/plain": [
       "{'results_clmbr_stanford': 0.751840751231437,\n",
       " 'results_clmbr_sk': 0.7486331598708912,\n",
       " 'results_count': 0.6844520562984433}"
      ]
     },
     "execution_count": 3,
     "metadata": {},
     "output_type": "execute_result"
    }
   ],
   "source": [
    "result_files = [\n",
    "    x for x in os.listdir(PATH_RESULTS)\n",
    "    if \"result\" in x\n",
    "]\n",
    "\n",
    "results = {}\n",
    "for file in result_files:\n",
    "    model = file.split('.')[0]\n",
    "    results[model] = read_pkl(os.path.join(PATH_RESULTS, file))['auroc']\n",
    "    \n",
    "results"
   ]
  },
  {
   "cell_type": "code",
   "execution_count": 4,
   "id": "757aa68a-0e72-4995-9b89-06e6972e8bed",
   "metadata": {},
   "outputs": [
    {
     "data": {
      "text/plain": [
       "0.8537284894837476"
      ]
     },
     "execution_count": 4,
     "metadata": {},
     "output_type": "execute_result"
    }
   ],
   "source": [
    "read_pkl(os.path.join(PATH_RESULTS, file))[\"labels\"].mean()"
   ]
  },
  {
   "cell_type": "markdown",
   "id": "7ab73338-dcc2-4dc8-a9d4-a46faf1e1d0b",
   "metadata": {},
   "source": [
    "#### Investigate labels"
   ]
  },
  {
   "cell_type": "markdown",
   "id": "c7777ff9-8b49-4a73-8a2f-b4af3144cc63",
   "metadata": {},
   "source": [
    "Strangely, most glucose results are even, which does not match what appears in SQL Server"
   ]
  },
  {
   "cell_type": "code",
   "execution_count": 5,
   "id": "cb43d786-2834-4428-bcda-517c580e73bd",
   "metadata": {},
   "outputs": [
    {
     "data": {
      "text/plain": [
       "0.8617565395294462"
      ]
     },
     "execution_count": 5,
     "metadata": {},
     "output_type": "execute_result"
    }
   ],
   "source": [
    "labeled_patients = read_pkl(os.path.join(PATH_RESULTS, \"labeled_patients.pkl\"))\n",
    "np.mean([v[0].value for _,v in labeled_patients.get_patients_to_labels().items() if v])"
   ]
  },
  {
   "cell_type": "markdown",
   "id": "01492e2a-b8de-41a3-a3a6-70cf80b1e29b",
   "metadata": {},
   "source": [
    "If we take a look at raw glucose values, roughly 50% are even."
   ]
  },
  {
   "cell_type": "code",
   "execution_count": 8,
   "id": "2f0a1b97-9dc6-4a5b-91cf-cd921f914b47",
   "metadata": {},
   "outputs": [],
   "source": [
    "from femr.datasets import PatientDatabase\n",
    "from femr.labelers.omop import map_omop_concept_codes_to_femr_codes\n",
    "database = PatientDatabase(\"/hpf/projects/lsung/data/lguo/omop_extract_v6\")\n",
    "ontology = database.get_ontology()"
   ]
  },
  {
   "cell_type": "code",
   "execution_count": 9,
   "id": "2cdb3418-8c9c-4ce3-bdf6-c12c50b8a3e9",
   "metadata": {},
   "outputs": [
    {
     "data": {
      "text/plain": [
       "(574078, 0.5016253789066583)"
      ]
     },
     "execution_count": 9,
     "metadata": {},
     "output_type": "execute_result"
    }
   ],
   "source": [
    "glucose_values = []\n",
    "for p in database:\n",
    "    patient = database.get(p)\n",
    "    \n",
    "    for e in patient.events:\n",
    "        if e.code in list(\n",
    "            map_omop_concept_codes_to_femr_codes(\n",
    "                ontology, [\"LOINC/14749-6\",\"LOINC/15074-8\"]\n",
    "            )\n",
    "        ):\n",
    "            glucose_values.append(e.value)\n",
    "            \n",
    "len(glucose_values), np.mean([int(float(x))%2==0 for x in glucose_values if x])"
   ]
  },
  {
   "cell_type": "markdown",
   "id": "a796faec-a99c-4b48-bd09-534f37322ef3",
   "metadata": {},
   "source": [
    "Ok, let's take a look at patients with positive label and their e.start times.."
   ]
  },
  {
   "cell_type": "code",
   "execution_count": 10,
   "id": "0747cbcd-2d84-414f-b4f6-0b1c00a64948",
   "metadata": {},
   "outputs": [],
   "source": [
    "patients_with_pos = {k:v for k,v in labeled_patients.get_patients_to_labels().items() if v and v[0].value}\n",
    "\n",
    "for patient_id, label in patients_with_pos.items():\n",
    "    patient = database.get(patient_id)\n",
    "    label = label[0]\n",
    "    break"
   ]
  },
  {
   "cell_type": "code",
   "execution_count": 11,
   "id": "6bfa66df-3a97-4b47-b0bc-f77fe2675ad5",
   "metadata": {},
   "outputs": [],
   "source": [
    "patient_glucose = []\n",
    "start = None\n",
    "end = None\n",
    "for e in patient.events:\n",
    "    # find visit\n",
    "    if e.start == label.time and e.code.lower()==\"visit/ip\":\n",
    "        start = e.start\n",
    "        end = e.end\n",
    "    \n",
    "if start is None and end is None:\n",
    "    raise ValueError(\"did not find Admission event\")\n",
    "\n",
    "for e in patient.events:\n",
    "    if e.code in [\"LOINC/14749-6\",\"LOINC/15074-8\"] and (\n",
    "        e.start is not None and\n",
    "        e.start >= start and\n",
    "        e.start <= end\n",
    "    ):\n",
    "        patient_glucose.append(e.value)"
   ]
  },
  {
   "cell_type": "code",
   "execution_count": 12,
   "id": "1b72f249-38b6-447d-8d38-ce271eb6192a",
   "metadata": {},
   "outputs": [
    {
     "data": {
      "text/plain": [
       "0.631578947368421"
      ]
     },
     "execution_count": 12,
     "metadata": {},
     "output_type": "execute_result"
    }
   ],
   "source": [
    "np.mean([int(float(x)) % 2 == 0 for x in patient_glucose])"
   ]
  },
  {
   "cell_type": "code",
   "execution_count": null,
   "id": "3f0ef2fc-f054-4841-ac57-12e7c03121ca",
   "metadata": {},
   "outputs": [],
   "source": []
  }
 ],
 "metadata": {
  "kernelspec": {
   "display_name": "Python 3 (ipykernel)",
   "language": "python",
   "name": "python3"
  },
  "language_info": {
   "codemirror_mode": {
    "name": "ipython",
    "version": 3
   },
   "file_extension": ".py",
   "mimetype": "text/x-python",
   "name": "python",
   "nbconvert_exporter": "python",
   "pygments_lexer": "ipython3",
   "version": "3.10.10"
  }
 },
 "nbformat": 4,
 "nbformat_minor": 5
}
